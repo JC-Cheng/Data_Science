{
 "cells": [
  {
   "cell_type": "code",
   "execution_count": 1,
   "metadata": {
    "collapsed": true
   },
   "outputs": [],
   "source": [
    "import pandas as pd\n",
    "import matplotlib.pyplot as plt\n",
    "plt.style.use('fivethirtyeight')\n",
    "\n",
    "%matplotlib inline"
   ]
  },
  {
   "cell_type": "code",
   "execution_count": 2,
   "metadata": {
    "collapsed": false
   },
   "outputs": [
    {
     "data": {
      "text/html": [
       "<div>\n",
       "<table border=\"1\" class=\"dataframe\">\n",
       "  <thead>\n",
       "    <tr style=\"text-align: right;\">\n",
       "      <th></th>\n",
       "      <th>company</th>\n",
       "      <th>d3</th>\n",
       "      <th>dl</th>\n",
       "      <th>hadoop</th>\n",
       "      <th>mapreduce</th>\n",
       "      <th>matlab</th>\n",
       "      <th>ml</th>\n",
       "      <th>nlp</th>\n",
       "      <th>nn</th>\n",
       "      <th>python</th>\n",
       "      <th>r</th>\n",
       "      <th>sas</th>\n",
       "      <th>spark</th>\n",
       "      <th>sql</th>\n",
       "      <th>sv</th>\n",
       "      <th>tf</th>\n",
       "      <th>title</th>\n",
       "      <th>url</th>\n",
       "    </tr>\n",
       "  </thead>\n",
       "  <tbody>\n",
       "    <tr>\n",
       "      <th>0</th>\n",
       "      <td>Production Modeling Corporation</td>\n",
       "      <td>0</td>\n",
       "      <td>0</td>\n",
       "      <td>0</td>\n",
       "      <td>0</td>\n",
       "      <td>0</td>\n",
       "      <td>0</td>\n",
       "      <td>0</td>\n",
       "      <td>0</td>\n",
       "      <td>0</td>\n",
       "      <td>0</td>\n",
       "      <td>0</td>\n",
       "      <td>1</td>\n",
       "      <td>0</td>\n",
       "      <td>0</td>\n",
       "      <td>0</td>\n",
       "      <td>Data Scientist ( NO C2C )</td>\n",
       "      <td>http://www.indeed.com/cmp/Production-Modeling-...</td>\n",
       "    </tr>\n",
       "    <tr>\n",
       "      <th>1</th>\n",
       "      <td>Quizlet</td>\n",
       "      <td>0</td>\n",
       "      <td>0</td>\n",
       "      <td>0</td>\n",
       "      <td>0</td>\n",
       "      <td>0</td>\n",
       "      <td>0</td>\n",
       "      <td>0</td>\n",
       "      <td>0</td>\n",
       "      <td>0</td>\n",
       "      <td>0</td>\n",
       "      <td>0</td>\n",
       "      <td>0</td>\n",
       "      <td>1</td>\n",
       "      <td>0</td>\n",
       "      <td>0</td>\n",
       "      <td>Data Scientist</td>\n",
       "      <td>http://www.indeed.com/rc/clk?jk=abaa158cd82f5d...</td>\n",
       "    </tr>\n",
       "    <tr>\n",
       "      <th>2</th>\n",
       "      <td>Twitch</td>\n",
       "      <td>0</td>\n",
       "      <td>0</td>\n",
       "      <td>0</td>\n",
       "      <td>0</td>\n",
       "      <td>0</td>\n",
       "      <td>0</td>\n",
       "      <td>0</td>\n",
       "      <td>0</td>\n",
       "      <td>0</td>\n",
       "      <td>0</td>\n",
       "      <td>0</td>\n",
       "      <td>0</td>\n",
       "      <td>1</td>\n",
       "      <td>0</td>\n",
       "      <td>0</td>\n",
       "      <td>Data Scientist</td>\n",
       "      <td>http://www.indeed.com/rc/clk?jk=85e94cc9adaabf...</td>\n",
       "    </tr>\n",
       "    <tr>\n",
       "      <th>3</th>\n",
       "      <td>Doximity</td>\n",
       "      <td>0</td>\n",
       "      <td>0</td>\n",
       "      <td>0</td>\n",
       "      <td>0</td>\n",
       "      <td>0</td>\n",
       "      <td>0</td>\n",
       "      <td>0</td>\n",
       "      <td>0</td>\n",
       "      <td>1</td>\n",
       "      <td>0</td>\n",
       "      <td>0</td>\n",
       "      <td>0</td>\n",
       "      <td>1</td>\n",
       "      <td>0</td>\n",
       "      <td>0</td>\n",
       "      <td>Data Scientist - Growth</td>\n",
       "      <td>http://www.indeed.com/rc/clk?jk=788fdeb8484613...</td>\n",
       "    </tr>\n",
       "    <tr>\n",
       "      <th>4</th>\n",
       "      <td>Smule</td>\n",
       "      <td>0</td>\n",
       "      <td>0</td>\n",
       "      <td>0</td>\n",
       "      <td>0</td>\n",
       "      <td>0</td>\n",
       "      <td>0</td>\n",
       "      <td>0</td>\n",
       "      <td>0</td>\n",
       "      <td>1</td>\n",
       "      <td>0</td>\n",
       "      <td>0</td>\n",
       "      <td>0</td>\n",
       "      <td>1</td>\n",
       "      <td>0</td>\n",
       "      <td>0</td>\n",
       "      <td>Data Scientist</td>\n",
       "      <td>http://www.indeed.com/rc/clk?jk=c213c4ef2d4435...</td>\n",
       "    </tr>\n",
       "  </tbody>\n",
       "</table>\n",
       "</div>"
      ],
      "text/plain": [
       "                           company  d3  dl  hadoop  mapreduce  matlab  ml  \\\n",
       "0  Production Modeling Corporation   0   0       0          0       0   0   \n",
       "1                          Quizlet   0   0       0          0       0   0   \n",
       "2                           Twitch   0   0       0          0       0   0   \n",
       "3                         Doximity   0   0       0          0       0   0   \n",
       "4                            Smule   0   0       0          0       0   0   \n",
       "\n",
       "   nlp  nn  python  r  sas  spark  sql  sv  tf                      title  \\\n",
       "0    0   0       0  0    0      1    0   0   0  Data Scientist ( NO C2C )   \n",
       "1    0   0       0  0    0      0    1   0   0             Data Scientist   \n",
       "2    0   0       0  0    0      0    1   0   0             Data Scientist   \n",
       "3    0   0       1  0    0      0    1   0   0    Data Scientist - Growth   \n",
       "4    0   0       1  0    0      0    1   0   0             Data Scientist   \n",
       "\n",
       "                                                 url  \n",
       "0  http://www.indeed.com/cmp/Production-Modeling-...  \n",
       "1  http://www.indeed.com/rc/clk?jk=abaa158cd82f5d...  \n",
       "2  http://www.indeed.com/rc/clk?jk=85e94cc9adaabf...  \n",
       "3  http://www.indeed.com/rc/clk?jk=788fdeb8484613...  \n",
       "4  http://www.indeed.com/rc/clk?jk=c213c4ef2d4435...  "
      ]
     },
     "execution_count": 2,
     "metadata": {},
     "output_type": "execute_result"
    }
   ],
   "source": [
    "JD = pd.read_json('IndeedJDs.json')\n",
    "JD.head()"
   ]
  },
  {
   "cell_type": "code",
   "execution_count": 3,
   "metadata": {
    "collapsed": false
   },
   "outputs": [],
   "source": [
    "keys = ['sql', 'python', 'matlab', 'r', 'ml', 'spark', 'hadoop', 'dl', 'mapreduce', 'tf', 'd3', 'sv', 'nn', 'nlp', 'sas']\n",
    "skills = ['SQL', 'Python', 'Matlab', 'R', 'Machine Learning', 'Spark', 'Hadoop',\n",
    "          'Deep Learning', 'MapReduce', 'TensorFlow', 'd3', 'Support Vector', 'Neural Network', 'NLP', 'SAS']\n",
    "\n",
    "JD.rename(columns=dict(zip(keys, skills)), inplace=True)"
   ]
  },
  {
   "cell_type": "code",
   "execution_count": 4,
   "metadata": {
    "collapsed": false
   },
   "outputs": [
    {
     "data": {
      "text/plain": [
       "SQL                 0.118257\n",
       "Python              0.116183\n",
       "R                   0.070539\n",
       "Spark               0.066390\n",
       "Hadoop              0.043568\n",
       "SAS                 0.029046\n",
       "MapReduce           0.014523\n",
       "NLP                 0.012448\n",
       "TensorFlow          0.006224\n",
       "Matlab              0.006224\n",
       "d3                  0.002075\n",
       "Support Vector      0.000000\n",
       "Neural Network      0.000000\n",
       "Machine Learning    0.000000\n",
       "Deep Learning       0.000000\n",
       "dtype: float64"
      ]
     },
     "execution_count": 4,
     "metadata": {},
     "output_type": "execute_result"
    }
   ],
   "source": [
    "JD.mean().sort_values(0, ascending=False)"
   ]
  },
  {
   "cell_type": "code",
   "execution_count": 5,
   "metadata": {
    "collapsed": false
   },
   "outputs": [
    {
     "data": {
      "text/plain": [
       "<matplotlib.axes._subplots.AxesSubplot at 0x60b1278>"
      ]
     },
     "execution_count": 5,
     "metadata": {},
     "output_type": "execute_result"
    },
    {
     "data": {
      "image/png": "[encoded data removed]",
      "text/plain": [
       "<matplotlib.figure.Figure at 0x8e20e80>"
      ]
     },
     "metadata": {},
     "output_type": "display_data"
    }
   ],
   "source": [
    "JD.mean().sort_values(0, ascending=False).plot(kind='bar')"
   ]
  },
  {
   "cell_type": "code",
   "execution_count": 6,
   "metadata": {
    "collapsed": false
   },
   "outputs": [
    {
     "data": {
      "text/plain": [
       "<matplotlib.axes._subplots.AxesSubplot at 0x60a1588>"
      ]
     },
     "execution_count": 6,
     "metadata": {},
     "output_type": "execute_result"
    },
    {
     "data": {
      "image/png": "[encoded data removed]",
      "text/plain": [
       "<matplotlib.figure.Figure at 0x95252e8>"
      ]
     },
     "metadata": {},
     "output_type": "display_data"
    }
   ],
   "source": [
    "JD.company.value_counts().head(10).plot(kind='bar')"
   ]
  },
  {
   "cell_type": "code",
   "execution_count": null,
   "metadata": {
    "collapsed": true
   },
   "outputs": [],
   "source": []
  }
 ],
 "metadata": {
  "kernelspec": {
   "display_name": "Python [Root]",
   "language": "python",
   "name": "Python [Root]"
  },
  "language_info": {
   "codemirror_mode": {
    "name": "ipython",
    "version": 2
   },
   "file_extension": ".py",
   "mimetype": "text/x-python",
   "name": "python",
   "nbconvert_exporter": "python",
   "pygments_lexer": "ipython2",
   "version": "2.7.12"
  }
 },
 "nbformat": 4,
 "nbformat_minor": 0
}
